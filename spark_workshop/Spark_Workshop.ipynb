{
  "cells": [
    {
      "cell_type": "markdown",
      "metadata": {
        "id": "view-in-github",
        "colab_type": "text"
      },
      "source": [
        "<a href=\"https://colab.research.google.com/github/ua-datalab/Workshops/blob/main/spark_workshop/Spark_Workshop.ipynb\" target=\"_parent\"><img src=\"https://colab.research.google.com/assets/colab-badge.svg\" alt=\"Open In Colab\"/></a>"
      ]
    },
    {
      "cell_type": "code",
      "execution_count": null,
      "metadata": {
        "application/vnd.databricks.v1+cell": {
          "cellMetadata": {},
          "inputWidgets": {},
          "nuid": "5c1a11fb-e073-4799-8daf-987ff2e98cab",
          "showTitle": false,
          "title": ""
        },
        "id": "dg9pCYKWmelz"
      },
      "outputs": [],
      "source": [
        "%%capture\n",
        "!pip install pyspark==3.5.0"
      ]
    },
    {
      "cell_type": "code",
      "execution_count": null,
      "metadata": {
        "application/vnd.databricks.v1+cell": {
          "cellMetadata": {
            "byteLimit": 2048000,
            "rowLimit": 10000
          },
          "inputWidgets": {},
          "nuid": "398237b0-a5e1-45b5-89a8-aba221d457bb",
          "showTitle": false,
          "title": ""
        },
        "id": "O9gDJlK5HYWe"
      },
      "outputs": [],
      "source": [
        "%%capture\n",
        "!pip install duckdb==0.8.0\n",
        "!pip install duckdb-engine==0.8.0\n",
        "!mkdir -p /db_file"
      ]
    },
    {
      "cell_type": "code",
      "execution_count": null,
      "metadata": {
        "application/vnd.databricks.v1+cell": {
          "cellMetadata": {
            "byteLimit": 2048000,
            "rowLimit": 10000
          },
          "inputWidgets": {},
          "nuid": "cf61afe8-f930-49e2-a71a-ae336adac005",
          "showTitle": false,
          "title": ""
        },
        "id": "MXvMuLsmmkZ8"
      },
      "outputs": [],
      "source": [
        "from pyspark.sql import SparkSession\n",
        "\n",
        "# Initialize SparkSession\n",
        "spark = SparkSession.builder \\\n",
        "  .config(\"spark.jars.packages\", \"org.duckdb:duckdb_jdbc:0.8.0\") \\\n",
        "  .getOrCreate()"
      ]
    },
    {
      "cell_type": "markdown",
      "metadata": {
        "application/vnd.databricks.v1+cell": {
          "cellMetadata": {},
          "inputWidgets": {},
          "nuid": "22fed250-bdee-43eb-88a5-4d32cae4e99b",
          "showTitle": false,
          "title": ""
        },
        "id": "qhISbcqLhZOO"
      },
      "source": [
        "## Introduction\n",
        "\n",
        "### What is Apache Spark?\n",
        "\n",
        "Apache Spark is an open-source unified analytics engine for large-scale data processing of data engineering, data science, and machine learning on single-node machines or clusters.\n",
        "\n",
        "### Why Spark?\n",
        "\n",
        "- Problem:\tSingle machine can not complete the computaion\n",
        "- Soluion: Parallelize the job and distribute\twork among a network of machines\n",
        "\n",
        "Databricks completed the Daytona GraySort, which is a distributed sort of 100 terabyte (TB) of on-disk data, in 23 minutes with 206 machines with 6,592 cores during this year's Sort Benchmark competition.Databricks pushed Spark further to also sort one petabyte (PB) of data on 190 machines in under four hours (234 minutes).\n",
        "\n",
        "### Why Spark is fast?\n",
        "- In-Memory Processing: Spark leverages in-memory computing to process data in RAM, which significantly accelerates processing speeds compared to traditional disk-based systems.\n",
        "- Distributed Computing: Spark distributes data across a cluster of machines, allowing for parallel processing of tasks."
      ]
    },
    {
      "cell_type": "markdown",
      "metadata": {
        "application/vnd.databricks.v1+cell": {
          "cellMetadata": {},
          "inputWidgets": {},
          "nuid": "3126963e-cf48-4729-95bc-3aeeb0d5657d",
          "showTitle": false,
          "title": ""
        },
        "id": "oE_9Emv-AXsf"
      },
      "source": [
        "## Spark Architecture\n",
        "![Image](https://raw.githubusercontent.com/pal0064/tutorials/master/images/arch.png)\n"
      ]
    },
    {
      "cell_type": "markdown",
      "metadata": {
        "application/vnd.databricks.v1+cell": {
          "cellMetadata": {},
          "inputWidgets": {},
          "nuid": "5f3fc260-3f29-49fa-97d9-1e0fa4d8c66b",
          "showTitle": false,
          "title": ""
        },
        "id": "FgxzuAWGCU68"
      },
      "source": [
        "- **Master-Slave Architecture**: Spark follows a master-slave architecture. The Master node manages the distribution of tasks, while Worker nodes execute those tasks.\n",
        "- **Cluster Manager**: The cluster manager is responsible for managing resources across the cluster. It allocates tasks to worker nodes based on available resources. Spark can work with different cluster managers, including Apache Mesos, Hadoop YARN, and its standalone cluster manager.\n",
        "- **Driver Program**: The driver program is responsible for coordinating the execution of tasks in a Spark application. It is the entry point for any Spark functionality. The driver sends tasks to the cluster's worker nodes and schedules computations.\n",
        "- **Worker Node**: Worker nodes are the machines in the cluster that execute the tasks assigned to them by the driver. Each worker node has its own executor processes. These processes are responsible for running computations and storing data locally.\n",
        "- **Executor**: An executor is a process that runs on each worker node and is responsible for executing tasks. Executors manage both the computation and storage resources for the tasks they execute.\n",
        "- **Task**: A task is a unit of work that is sent to a worker node for execution. Tasks are created by the driver and executed by the executors."
      ]
    },
    {
      "cell_type": "markdown",
      "metadata": {
        "application/vnd.databricks.v1+cell": {
          "cellMetadata": {},
          "inputWidgets": {},
          "nuid": "ebe40fb3-53de-45ca-8077-402344411b52",
          "showTitle": false,
          "title": ""
        },
        "id": "QQw88mZeAZD6"
      },
      "source": [
        "## Components\n",
        "\n",
        "![Image](https://raw.githubusercontent.com/pal0064/tutorials/master/images/components.png)"
      ]
    },
    {
      "cell_type": "markdown",
      "metadata": {
        "application/vnd.databricks.v1+cell": {
          "cellMetadata": {},
          "inputWidgets": {},
          "nuid": "432024a6-667e-4e02-bd2e-25687dfcfdd6",
          "showTitle": false,
          "title": ""
        },
        "id": "iPaVuBu3DL6V"
      },
      "source": [
        "- **Spark Core** is the foundation of the platform. It is responsible for memory management, fault recovery, scheduling, distributing & monitoring jobs, and interacting with storage systems\n",
        "- **Spark Streaming** is an extension of the core Spark API that enables scalable, high-throughput, fault-tolerant stream processing of live data streams.\n",
        "- **Spark SQL** provides a unified data processing framework for both structured and unstructured data. It allows you to execute SQL queries alongside your Spark code.\n",
        "- **MLlib** is Spark's machine learning library. It provides a wide range of algorithms and tools for building and training machine learning models at scale.\n",
        "- **GraphX** is Apache Spark's API for graphs and graph-parallel computation."
      ]
    },
    {
      "cell_type": "markdown",
      "metadata": {
        "application/vnd.databricks.v1+cell": {
          "cellMetadata": {},
          "inputWidgets": {},
          "nuid": "f6a7ab77-82da-4354-b24c-bbbc9433dfbb",
          "showTitle": false,
          "title": ""
        },
        "id": "eX7e8hEeCOiW"
      },
      "source": [
        "### Spark APIs\n",
        "\n",
        "1. **Resilient Distributed Dataset** (RDD): RDD is the fundamental data structure in Spark. It is an immutable distributed collection of objects that can be processed in parallel across a cluster.\n"
      ]
    },
    {
      "cell_type": "markdown",
      "metadata": {
        "application/vnd.databricks.v1+cell": {
          "cellMetadata": {},
          "inputWidgets": {},
          "nuid": "60276e8e-7740-489a-ada4-38a587648fe9",
          "showTitle": false,
          "title": ""
        },
        "id": "JUdYPbt7XrZB"
      },
      "source": [
        "![Image](https://raw.githubusercontent.com/pal0064/tutorials/master/images/rdd.png)"
      ]
    },
    {
      "cell_type": "code",
      "execution_count": null,
      "metadata": {
        "application/vnd.databricks.v1+cell": {
          "cellMetadata": {
            "byteLimit": 2048000,
            "rowLimit": 10000
          },
          "inputWidgets": {},
          "nuid": "7bd22723-e172-4fc8-bb7c-78597ef8d3af",
          "showTitle": false,
          "title": ""
        },
        "id": "Od2wo19jGW9D"
      },
      "outputs": [],
      "source": [
        "import os\n",
        "cwd = os.getcwd()\n",
        "def get_path(file_name):\n",
        "    return f'file://{cwd}/{file_name}'"
      ]
    },
    {
      "cell_type": "code",
      "execution_count": null,
      "metadata": {
        "application/vnd.databricks.v1+cell": {
          "cellMetadata": {
            "byteLimit": 2048000,
            "rowLimit": 10000
          },
          "inputWidgets": {},
          "nuid": "4477174d-70a7-489f-8ead-27dc7da90d3a",
          "showTitle": false,
          "title": ""
        },
        "colab": {
          "base_uri": "https://localhost:8080/"
        },
        "id": "krQOWB79Evdp",
        "outputId": "7b7ba620-d96d-4ab7-db0c-4eaea625ed67"
      },
      "outputs": [
        {
          "output_type": "stream",
          "name": "stdout",
          "text": [
            "--2023-11-08 15:42:22--  https://raw.githubusercontent.com/apache/spark/master/examples/src/main/resources/people.txt\n",
            "Resolving raw.githubusercontent.com (raw.githubusercontent.com)... 185.199.108.133, 185.199.109.133, 185.199.110.133, ...\n",
            "Connecting to raw.githubusercontent.com (raw.githubusercontent.com)|185.199.108.133|:443... connected.\n",
            "HTTP request sent, awaiting response... 200 OK\n",
            "Length: 32 [text/plain]\n",
            "Saving to: ‘people.txt’\n",
            "\n",
            "people.txt          100%[===================>]      32  --.-KB/s    in 0s      \n",
            "\n",
            "2023-11-08 15:42:23 (733 KB/s) - ‘people.txt’ saved [32/32]\n",
            "\n"
          ]
        },
        {
          "output_type": "execute_result",
          "data": {
            "text/plain": [
              "file:///content/people.txt MapPartitionsRDD[1] at textFile at NativeMethodAccessorImpl.java:0"
            ]
          },
          "metadata": {},
          "execution_count": 5
        }
      ],
      "source": [
        "!wget https://raw.githubusercontent.com/apache/spark/master/examples/src/main/resources/people.txt\n",
        "file_path = get_path('people.txt')\n",
        "rdd = spark.sparkContext.textFile(file_path)\n",
        "rdd"
      ]
    },
    {
      "cell_type": "code",
      "execution_count": null,
      "metadata": {
        "application/vnd.databricks.v1+cell": {
          "cellMetadata": {
            "byteLimit": 2048000,
            "rowLimit": 10000
          },
          "inputWidgets": {},
          "nuid": "cd966947-7c7d-4195-a4a5-47563d102b5b",
          "showTitle": false,
          "title": ""
        },
        "colab": {
          "base_uri": "https://localhost:8080/"
        },
        "id": "e1j_zgxvNKr2",
        "outputId": "1c185aca-a8c6-4b3e-a4a4-15b7d7d59378"
      },
      "outputs": [
        {
          "output_type": "execute_result",
          "data": {
            "text/plain": [
              "['Michael, 29', 'Andy, 30', 'Justin, 19']"
            ]
          },
          "metadata": {},
          "execution_count": 6
        }
      ],
      "source": [
        "rdd.collect()"
      ]
    },
    {
      "cell_type": "markdown",
      "metadata": {
        "application/vnd.databricks.v1+cell": {
          "cellMetadata": {},
          "inputWidgets": {},
          "nuid": "e2391443-d2f6-4c04-bc3f-91db852a5959",
          "showTitle": false,
          "title": ""
        },
        "id": "qQGzIhAtEsLY"
      },
      "source": [
        "2. **DataFrame and Dataset API**: DataFrame and Dataset APIs provide a higher-level abstraction for working with structured data, allowing for more SQL-like operations and optimizations. The Dataset API is available in Scala and Java. Python does not have the support for the Dataset API"
      ]
    },
    {
      "cell_type": "code",
      "execution_count": null,
      "metadata": {
        "application/vnd.databricks.v1+cell": {
          "cellMetadata": {
            "byteLimit": 2048000,
            "rowLimit": 10000
          },
          "inputWidgets": {},
          "nuid": "c8a91eb6-47f7-4040-aa4f-c4a973b6d170",
          "showTitle": false,
          "title": ""
        },
        "colab": {
          "base_uri": "https://localhost:8080/"
        },
        "id": "Fqtm2lwjNcdf",
        "outputId": "f3962b0e-9cc0-47d8-de13-854d27078b7b"
      },
      "outputs": [
        {
          "output_type": "execute_result",
          "data": {
            "text/plain": [
              "DataFrame[Name: string, Age: string]"
            ]
          },
          "metadata": {},
          "execution_count": 7
        }
      ],
      "source": [
        "df = spark.read.csv(file_path,header=False).toDF('Name', 'Age')\n",
        "df # lazy evaluation"
      ]
    },
    {
      "cell_type": "code",
      "execution_count": null,
      "metadata": {
        "application/vnd.databricks.v1+cell": {
          "cellMetadata": {
            "byteLimit": 2048000,
            "rowLimit": 10000
          },
          "inputWidgets": {},
          "nuid": "c3d60a1b-a24c-4e93-b4b4-6e3b19c44972",
          "showTitle": false,
          "title": ""
        },
        "colab": {
          "base_uri": "https://localhost:8080/"
        },
        "id": "vyfvUqWvPh4G",
        "outputId": "a55f1d6a-9d69-4778-e0ee-06328fb2b8e9"
      },
      "outputs": [
        {
          "output_type": "stream",
          "name": "stdout",
          "text": [
            "+-------+---+\n",
            "|   Name|Age|\n",
            "+-------+---+\n",
            "|Michael| 29|\n",
            "|   Andy| 30|\n",
            "| Justin| 19|\n",
            "+-------+---+\n",
            "\n"
          ]
        }
      ],
      "source": [
        "df.show()"
      ]
    },
    {
      "cell_type": "markdown",
      "metadata": {
        "application/vnd.databricks.v1+cell": {
          "cellMetadata": {},
          "inputWidgets": {},
          "nuid": "b4b752eb-26e9-4ec5-909b-aefa2b8d9170",
          "showTitle": false,
          "title": ""
        },
        "id": "0oMRd7CsOJa-"
      },
      "source": [
        "### Spark job flow components\n",
        "\n",
        "- **Directed Acyclic Graph (DAG)**: Spark transforms the operations on RDDs into a logical plan called a DAG. The DAG represents the flow of data and operations to be performed. It helps in optimizing the execution of tasks.\n",
        "- **Job**: A job is submitted to Spark for execution in response to an action (e.g., collect, save). Jobs are broken down into stages.\n",
        "- **Stage**: A stage is a unit of work that can be executed in parallel. A job may consist of multiple stages, and each stage corresponds to a set of tasks that can be executed without shuffling data across the network."
      ]
    },
    {
      "cell_type": "markdown",
      "metadata": {
        "application/vnd.databricks.v1+cell": {
          "cellMetadata": {},
          "inputWidgets": {},
          "nuid": "3a62e191-3422-4b05-a177-38cd0e5d1f6d",
          "showTitle": false,
          "title": ""
        },
        "id": "r2ALUanjOStP"
      },
      "source": [
        "# Data Importing"
      ]
    },
    {
      "cell_type": "code",
      "execution_count": null,
      "metadata": {
        "application/vnd.databricks.v1+cell": {
          "cellMetadata": {
            "byteLimit": 2048000,
            "rowLimit": 10000
          },
          "inputWidgets": {},
          "nuid": "c5f19164-71e5-4a58-86e9-66cb2dcd9f36",
          "showTitle": false,
          "title": ""
        },
        "id": "zOO81wZgmie8"
      },
      "outputs": [],
      "source": [
        "import pandas as pd\n",
        "import numpy as np\n",
        "from sklearn.datasets import load_iris\n",
        "iris = load_iris(as_frame=True)\n",
        "iris = iris.frame"
      ]
    },
    {
      "cell_type": "markdown",
      "metadata": {
        "application/vnd.databricks.v1+cell": {
          "cellMetadata": {},
          "inputWidgets": {},
          "nuid": "07b58e82-e48d-43d3-b7cc-235b5521769c",
          "showTitle": false,
          "title": ""
        },
        "id": "oZzd15TfPV9P"
      },
      "source": [
        "### Converting a python dataframe to spark dataframe"
      ]
    },
    {
      "cell_type": "code",
      "execution_count": null,
      "metadata": {
        "application/vnd.databricks.v1+cell": {
          "cellMetadata": {
            "byteLimit": 2048000,
            "rowLimit": 10000
          },
          "inputWidgets": {},
          "nuid": "92a5006a-8f02-4f67-99c7-821d453ee205",
          "showTitle": false,
          "title": ""
        },
        "colab": {
          "base_uri": "https://localhost:8080/"
        },
        "id": "a5HX7_2hrcYL",
        "outputId": "c535e124-2fee-400c-d63a-e9b93cf2bcaa"
      },
      "outputs": [
        {
          "output_type": "stream",
          "name": "stdout",
          "text": [
            "root\n",
            " |-- sepal length (cm): double (nullable = true)\n",
            " |-- sepal width (cm): double (nullable = true)\n",
            " |-- petal length (cm): double (nullable = true)\n",
            " |-- petal width (cm): double (nullable = true)\n",
            " |-- target: long (nullable = true)\n",
            "\n"
          ]
        }
      ],
      "source": [
        "iris_spark_df = spark.createDataFrame(iris)\n",
        "iris_spark_df.printSchema()"
      ]
    },
    {
      "cell_type": "markdown",
      "metadata": {
        "application/vnd.databricks.v1+cell": {
          "cellMetadata": {},
          "inputWidgets": {},
          "nuid": "7b81e790-2ea7-45fc-a174-afe9b8649841",
          "showTitle": false,
          "title": ""
        },
        "id": "MUUb08lMrJvp"
      },
      "source": [
        "### Read a csv file directly via spark"
      ]
    },
    {
      "cell_type": "code",
      "execution_count": null,
      "metadata": {
        "application/vnd.databricks.v1+cell": {
          "cellMetadata": {
            "byteLimit": 2048000,
            "rowLimit": 10000
          },
          "inputWidgets": {},
          "nuid": "8a97c660-0eec-4adf-b0b2-66e900d067c8",
          "showTitle": false,
          "title": ""
        },
        "id": "3UEI5HIXqdTM"
      },
      "outputs": [],
      "source": [
        "%%capture\n",
        "!wget https://gist.githubusercontent.com/netj/8836201/raw/6f9306ad21398ea43cba4f7d537619d0e07d5ae3/iris.csv\n",
        "iris_csv_file_path = get_path('iris.csv')"
      ]
    },
    {
      "cell_type": "code",
      "execution_count": null,
      "metadata": {
        "application/vnd.databricks.v1+cell": {
          "cellMetadata": {
            "byteLimit": 2048000,
            "rowLimit": 10000
          },
          "inputWidgets": {},
          "nuid": "37a3bf44-5b26-45c2-8a61-8c411c5089f6",
          "showTitle": false,
          "title": ""
        },
        "id": "r8Sc6eTzrQic"
      },
      "outputs": [],
      "source": [
        "iris_spark_df = spark.read.csv(iris_csv_file_path, header=True,inferSchema=True)"
      ]
    },
    {
      "cell_type": "markdown",
      "metadata": {
        "application/vnd.databricks.v1+cell": {
          "cellMetadata": {},
          "inputWidgets": {},
          "nuid": "0ed5561f-5356-444c-8051-a8375ea6a45e",
          "showTitle": false,
          "title": ""
        },
        "id": "YBx69L-UPxV8"
      },
      "source": [
        "### Writing json formatted files using spark"
      ]
    },
    {
      "cell_type": "code",
      "execution_count": null,
      "metadata": {
        "application/vnd.databricks.v1+cell": {
          "cellMetadata": {
            "byteLimit": 2048000,
            "rowLimit": 10000
          },
          "inputWidgets": {},
          "nuid": "91d2252a-0164-4cf9-b53a-b637fe758204",
          "showTitle": false,
          "title": ""
        },
        "id": "8HZ8ohLiiiIG"
      },
      "outputs": [],
      "source": [
        "iris_json_dir_path = get_path('iris_json')\n",
        "iris_spark_df.write.json(iris_json_dir_path,mode='overwrite')"
      ]
    },
    {
      "cell_type": "markdown",
      "metadata": {
        "application/vnd.databricks.v1+cell": {
          "cellMetadata": {},
          "inputWidgets": {},
          "nuid": "377dc808-02cd-4351-90d3-54d187b5e221",
          "showTitle": false,
          "title": ""
        },
        "id": "zFmNoNI1Pt_c"
      },
      "source": [
        "### Read a json file directly via spark"
      ]
    },
    {
      "cell_type": "code",
      "execution_count": null,
      "metadata": {
        "application/vnd.databricks.v1+cell": {
          "cellMetadata": {
            "byteLimit": 2048000,
            "rowLimit": 10000
          },
          "inputWidgets": {},
          "nuid": "52fc90f4-10e8-4a35-910b-1d94caf21153",
          "showTitle": false,
          "title": ""
        },
        "id": "f04u2WxZrv2b"
      },
      "outputs": [],
      "source": [
        "df = spark.read.json(iris_json_dir_path)"
      ]
    },
    {
      "cell_type": "code",
      "execution_count": null,
      "metadata": {
        "application/vnd.databricks.v1+cell": {
          "cellMetadata": {
            "byteLimit": 2048000,
            "rowLimit": 10000
          },
          "inputWidgets": {},
          "nuid": "00e6dd37-a65e-4c44-92a9-77062f6c157f",
          "showTitle": false,
          "title": ""
        },
        "colab": {
          "base_uri": "https://localhost:8080/"
        },
        "id": "75QahwsRrsol",
        "outputId": "bfbfc3a9-ee56-4026-f03f-9dcf5fd61a28"
      },
      "outputs": [
        {
          "output_type": "stream",
          "name": "stdout",
          "text": [
            "+------------+-----------+------------+-----------+-------+\n",
            "|petal.length|petal.width|sepal.length|sepal.width|variety|\n",
            "+------------+-----------+------------+-----------+-------+\n",
            "|         1.4|        0.2|         5.1|        3.5| Setosa|\n",
            "|         1.4|        0.2|         4.9|        3.0| Setosa|\n",
            "|         1.3|        0.2|         4.7|        3.2| Setosa|\n",
            "|         1.5|        0.2|         4.6|        3.1| Setosa|\n",
            "|         1.4|        0.2|         5.0|        3.6| Setosa|\n",
            "|         1.7|        0.4|         5.4|        3.9| Setosa|\n",
            "|         1.4|        0.3|         4.6|        3.4| Setosa|\n",
            "|         1.5|        0.2|         5.0|        3.4| Setosa|\n",
            "|         1.4|        0.2|         4.4|        2.9| Setosa|\n",
            "|         1.5|        0.1|         4.9|        3.1| Setosa|\n",
            "|         1.5|        0.2|         5.4|        3.7| Setosa|\n",
            "|         1.6|        0.2|         4.8|        3.4| Setosa|\n",
            "|         1.4|        0.1|         4.8|        3.0| Setosa|\n",
            "|         1.1|        0.1|         4.3|        3.0| Setosa|\n",
            "|         1.2|        0.2|         5.8|        4.0| Setosa|\n",
            "|         1.5|        0.4|         5.7|        4.4| Setosa|\n",
            "|         1.3|        0.4|         5.4|        3.9| Setosa|\n",
            "|         1.4|        0.3|         5.1|        3.5| Setosa|\n",
            "|         1.7|        0.3|         5.7|        3.8| Setosa|\n",
            "|         1.5|        0.3|         5.1|        3.8| Setosa|\n",
            "+------------+-----------+------------+-----------+-------+\n",
            "only showing top 20 rows\n",
            "\n"
          ]
        }
      ],
      "source": [
        "df.show()"
      ]
    },
    {
      "cell_type": "code",
      "execution_count": null,
      "metadata": {
        "application/vnd.databricks.v1+cell": {
          "cellMetadata": {
            "byteLimit": 2048000,
            "rowLimit": 10000
          },
          "inputWidgets": {},
          "nuid": "75856fd6-3268-48d2-84a4-0ccdb0e53389",
          "showTitle": false,
          "title": ""
        },
        "colab": {
          "base_uri": "https://localhost:8080/"
        },
        "id": "S-8fvAXArXc8",
        "outputId": "670c214a-c5e6-4f9b-cbb4-9da1033083e5"
      },
      "outputs": [
        {
          "output_type": "stream",
          "name": "stdout",
          "text": [
            "root\n",
            " |-- sepal.length: double (nullable = true)\n",
            " |-- sepal.width: double (nullable = true)\n",
            " |-- petal.length: double (nullable = true)\n",
            " |-- petal.width: double (nullable = true)\n",
            " |-- variety: string (nullable = true)\n",
            "\n"
          ]
        }
      ],
      "source": [
        "iris_spark_df.printSchema()"
      ]
    },
    {
      "cell_type": "markdown",
      "metadata": {
        "application/vnd.databricks.v1+cell": {
          "cellMetadata": {},
          "inputWidgets": {},
          "nuid": "bb003b0a-da80-4e6b-8b91-50ebec85e1a7",
          "showTitle": false,
          "title": ""
        },
        "id": "WGw1aXWsP5Xq"
      },
      "source": [
        "### Reading data from a database using spark"
      ]
    },
    {
      "cell_type": "markdown",
      "metadata": {
        "application/vnd.databricks.v1+cell": {
          "cellMetadata": {},
          "inputWidgets": {},
          "nuid": "13a377c5-af50-4ea5-91ee-0ba69ff1c13a",
          "showTitle": false,
          "title": ""
        },
        "id": "cFHfqwfoP9QC"
      },
      "source": [
        "#### Creating a duckdb table using csv file"
      ]
    },
    {
      "cell_type": "code",
      "execution_count": null,
      "metadata": {
        "application/vnd.databricks.v1+cell": {
          "cellMetadata": {
            "byteLimit": 2048000,
            "rowLimit": 10000
          },
          "inputWidgets": {},
          "nuid": "4fe7edf1-153c-473c-a3e1-cd156a6d32cd",
          "showTitle": false,
          "title": ""
        },
        "colab": {
          "base_uri": "https://localhost:8080/"
        },
        "id": "rFMlD91u63fG",
        "outputId": "dbd32763-4e26-4c81-a15d-31404c63ce58"
      },
      "outputs": [
        {
          "output_type": "stream",
          "name": "stdout",
          "text": [
            "┌──────────────┐\n",
            "│ sepal.length │\n",
            "│    double    │\n",
            "├──────────────┤\n",
            "│          5.1 │\n",
            "│          4.9 │\n",
            "│          4.7 │\n",
            "│          4.6 │\n",
            "│          5.0 │\n",
            "│          5.4 │\n",
            "│          4.6 │\n",
            "│          5.0 │\n",
            "│          4.4 │\n",
            "│          4.9 │\n",
            "│           ·  │\n",
            "│           ·  │\n",
            "│           ·  │\n",
            "│          6.7 │\n",
            "│          6.9 │\n",
            "│          5.8 │\n",
            "│          6.8 │\n",
            "│          6.7 │\n",
            "│          6.7 │\n",
            "│          6.3 │\n",
            "│          6.5 │\n",
            "│          6.2 │\n",
            "│          5.9 │\n",
            "├──────────────┤\n",
            "│   150 rows   │\n",
            "│  (20 shown)  │\n",
            "└──────────────┘\n",
            "\n"
          ]
        }
      ],
      "source": [
        "import duckdb\n",
        "con = duckdb.connect('/db_file/default_spark_workshop.db')\n",
        "con.sql(\"\"\"CREATE TABLE if not exists iris_data AS SELECT * FROM read_csv_auto('iris.csv')\"\"\")\n",
        "con.sql(\"\"\" SELECT \"sepal.length\" FROM read_csv_auto('iris.csv')\"\"\").show()\n",
        "con.close()"
      ]
    },
    {
      "cell_type": "markdown",
      "metadata": {
        "application/vnd.databricks.v1+cell": {
          "cellMetadata": {},
          "inputWidgets": {},
          "nuid": "0ae6c4e2-dd19-476d-a60b-b3231cd35ad5",
          "showTitle": false,
          "title": ""
        },
        "id": "9Buvw3NYP3nR"
      },
      "source": [
        "#### Reading data from duckdb table using spark jdbc"
      ]
    },
    {
      "cell_type": "code",
      "execution_count": null,
      "metadata": {
        "application/vnd.databricks.v1+cell": {
          "cellMetadata": {
            "byteLimit": 2048000,
            "rowLimit": 10000
          },
          "inputWidgets": {},
          "nuid": "0f504a92-875e-446f-9308-fb4012338290",
          "showTitle": false,
          "title": ""
        },
        "colab": {
          "base_uri": "https://localhost:8080/"
        },
        "id": "u1cQBrlPCR7H",
        "outputId": "8402ac46-4cb9-4f47-bae6-abb48618a00c"
      },
      "outputs": [
        {
          "output_type": "stream",
          "name": "stdout",
          "text": [
            "+------------+-----------+------------+-----------+-------+\n",
            "|sepal.length|sepal.width|petal.length|petal.width|variety|\n",
            "+------------+-----------+------------+-----------+-------+\n",
            "|         5.1|        3.5|         1.4|        0.2| Setosa|\n",
            "|         4.9|        3.0|         1.4|        0.2| Setosa|\n",
            "|         4.7|        3.2|         1.3|        0.2| Setosa|\n",
            "|         4.6|        3.1|         1.5|        0.2| Setosa|\n",
            "|         5.0|        3.6|         1.4|        0.2| Setosa|\n",
            "|         5.4|        3.9|         1.7|        0.4| Setosa|\n",
            "|         4.6|        3.4|         1.4|        0.3| Setosa|\n",
            "|         5.0|        3.4|         1.5|        0.2| Setosa|\n",
            "|         4.4|        2.9|         1.4|        0.2| Setosa|\n",
            "|         4.9|        3.1|         1.5|        0.1| Setosa|\n",
            "|         5.4|        3.7|         1.5|        0.2| Setosa|\n",
            "|         4.8|        3.4|         1.6|        0.2| Setosa|\n",
            "|         4.8|        3.0|         1.4|        0.1| Setosa|\n",
            "|         4.3|        3.0|         1.1|        0.1| Setosa|\n",
            "|         5.8|        4.0|         1.2|        0.2| Setosa|\n",
            "|         5.7|        4.4|         1.5|        0.4| Setosa|\n",
            "|         5.4|        3.9|         1.3|        0.4| Setosa|\n",
            "|         5.1|        3.5|         1.4|        0.3| Setosa|\n",
            "|         5.7|        3.8|         1.7|        0.3| Setosa|\n",
            "|         5.1|        3.8|         1.5|        0.3| Setosa|\n",
            "+------------+-----------+------------+-----------+-------+\n",
            "only showing top 20 rows\n",
            "\n"
          ]
        }
      ],
      "source": [
        "url=\"jdbc:duckdb:/db_file/default_spark_workshop.db\"\n",
        "table='iris_data'\n",
        "properties = {'driver':'org.duckdb.DuckDBDriver',\"duckdb.read_only\": \"true\"\n",
        "              }\n",
        "spark.read.jdbc(url=url, table=table, properties=properties).show()"
      ]
    },
    {
      "cell_type": "markdown",
      "metadata": {
        "application/vnd.databricks.v1+cell": {
          "cellMetadata": {},
          "inputWidgets": {},
          "nuid": "beb95ef8-e967-4a7f-92bf-204e7e960989",
          "showTitle": false,
          "title": ""
        },
        "id": "jmFqZsQSQN7u"
      },
      "source": [
        "#### Reading data from duckdb table via sql query using spark jdbc"
      ]
    },
    {
      "cell_type": "code",
      "execution_count": null,
      "metadata": {
        "application/vnd.databricks.v1+cell": {
          "cellMetadata": {
            "byteLimit": 2048000,
            "rowLimit": 10000
          },
          "inputWidgets": {},
          "nuid": "fd5c243c-13b0-4296-981f-03f836f323f3",
          "showTitle": false,
          "title": ""
        },
        "colab": {
          "base_uri": "https://localhost:8080/"
        },
        "id": "_TSvvYJ9QL__",
        "outputId": "5349e148-3fca-45de-beac-9dec3fa1d159"
      },
      "outputs": [
        {
          "output_type": "stream",
          "name": "stdout",
          "text": [
            "+----------------+-----------------+----------------+\n",
            "|min_sepal_length| avg_sepal_length|max_sepal_length|\n",
            "+----------------+-----------------+----------------+\n",
            "|             4.3|5.843333333333335|             7.9|\n",
            "+----------------+-----------------+----------------+\n",
            "\n"
          ]
        }
      ],
      "source": [
        "spark.read.format(\"jdbc\")\\\n",
        ".option(\"url\", url)\\\n",
        ".option(\"query\", \"\"\"select min(\"sepal.length\") as min_sepal_length,avg(\"sepal.length\") as avg_sepal_length, max(\"sepal.length\")as max_sepal_length from default_spark_workshop.iris_data\"\"\")\\\n",
        ".option('driver','org.duckdb.DuckDBDriver')\\\n",
        ".option('duckdb.read_only','true')\\\n",
        ".load().show()"
      ]
    },
    {
      "cell_type": "markdown",
      "metadata": {
        "application/vnd.databricks.v1+cell": {
          "cellMetadata": {},
          "inputWidgets": {},
          "nuid": "9c466660-9244-439d-bfeb-44c71d28e26e",
          "showTitle": false,
          "title": ""
        },
        "id": "cNPjtRhDQI3a"
      },
      "source": [
        "#### Reading data from duckdb table by increasing the parallelism using spark jdbc"
      ]
    },
    {
      "cell_type": "code",
      "execution_count": null,
      "metadata": {
        "application/vnd.databricks.v1+cell": {
          "cellMetadata": {
            "byteLimit": 2048000,
            "rowLimit": 10000
          },
          "inputWidgets": {},
          "nuid": "e93c2852-e54a-4f3e-87ba-f2fff287a459",
          "showTitle": false,
          "title": ""
        },
        "colab": {
          "base_uri": "https://localhost:8080/"
        },
        "id": "3c5fHsBMLajm",
        "outputId": "ff840003-3f07-4b17-c223-60aa7cfe3148"
      },
      "outputs": [
        {
          "output_type": "execute_result",
          "data": {
            "text/plain": [
              "3"
            ]
          },
          "metadata": {},
          "execution_count": 20
        }
      ],
      "source": [
        "df=spark.read.jdbc(url=url, table=table, properties=properties,predicates=['\"sepal.length\" between 4 and 5','\"sepal.length\" >5 and \"sepal.length\" <7','\"sepal.length\" >7 '])\n",
        "df.rdd.getNumPartitions()"
      ]
    },
    {
      "cell_type": "markdown",
      "metadata": {
        "application/vnd.databricks.v1+cell": {
          "cellMetadata": {},
          "inputWidgets": {},
          "nuid": "36214340-f758-449d-bfc8-4b875f5c7ac3",
          "showTitle": false,
          "title": ""
        },
        "id": "TY9psgpZOWIe"
      },
      "source": [
        "# Data Preprocessing and Transformation\n"
      ]
    },
    {
      "cell_type": "markdown",
      "metadata": {
        "application/vnd.databricks.v1+cell": {
          "cellMetadata": {},
          "inputWidgets": {},
          "nuid": "1f3afe29-28eb-41d3-844a-fab70f65a584",
          "showTitle": false,
          "title": ""
        },
        "id": "Oco-2OlpQpjN"
      },
      "source": [
        "### Renaming dataframe columns"
      ]
    },
    {
      "cell_type": "code",
      "execution_count": null,
      "metadata": {
        "application/vnd.databricks.v1+cell": {
          "cellMetadata": {},
          "inputWidgets": {},
          "nuid": "a908a0b0-c9cc-49b7-93c7-6adf8111dbe0",
          "showTitle": false,
          "title": ""
        },
        "colab": {
          "base_uri": "https://localhost:8080/"
        },
        "id": "zwoN2m0vkNFX",
        "outputId": "b699f2c2-2d5e-4ba8-b3f9-69e05e517d4d"
      },
      "outputs": [
        {
          "output_type": "stream",
          "name": "stdout",
          "text": [
            "root\n",
            " |-- sepal_length: double (nullable = true)\n",
            " |-- sepal_width: double (nullable = true)\n",
            " |-- petal_length: double (nullable = true)\n",
            " |-- petal_width: double (nullable = true)\n",
            " |-- variety: string (nullable = true)\n",
            "\n"
          ]
        }
      ],
      "source": [
        "renamed_iris_spark_df=df.repartition(8)\n",
        "for column in df.columns:\n",
        "  renamed_iris_spark_df  = renamed_iris_spark_df.withColumnRenamed(column,column.replace('.','_'))\n",
        "renamed_iris_spark_df.printSchema()"
      ]
    },
    {
      "cell_type": "markdown",
      "metadata": {
        "application/vnd.databricks.v1+cell": {
          "cellMetadata": {},
          "inputWidgets": {},
          "nuid": "372567de-bf29-4ff8-b00f-3b922e4013e2",
          "showTitle": false,
          "title": ""
        },
        "id": "EkGb3ZIgQwaU"
      },
      "source": [
        "#### Creating a spark sql table from a dataframe"
      ]
    },
    {
      "cell_type": "code",
      "execution_count": null,
      "metadata": {
        "application/vnd.databricks.v1+cell": {
          "cellMetadata": {},
          "inputWidgets": {},
          "nuid": "44c8fc49-d672-4fa2-a1ab-2e9543accacf",
          "showTitle": false,
          "title": ""
        },
        "colab": {
          "base_uri": "https://localhost:8080/"
        },
        "id": "FfjrgAY_mP_o",
        "outputId": "f35a1725-fe49-4df3-ae4b-68be42043698"
      },
      "outputs": [
        {
          "output_type": "stream",
          "name": "stderr",
          "text": [
            "/usr/local/lib/python3.10/dist-packages/pyspark/sql/dataframe.py:329: FutureWarning: Deprecated in 2.0, use createOrReplaceTempView instead.\n",
            "  warnings.warn(\"Deprecated in 2.0, use createOrReplaceTempView instead.\", FutureWarning)\n"
          ]
        }
      ],
      "source": [
        "renamed_iris_spark_df.registerTempTable(\"iris_table\")"
      ]
    },
    {
      "cell_type": "code",
      "execution_count": null,
      "metadata": {
        "application/vnd.databricks.v1+cell": {
          "cellMetadata": {},
          "inputWidgets": {},
          "nuid": "ccba51b0-3549-4b81-a602-df261a28199d",
          "showTitle": false,
          "title": ""
        },
        "colab": {
          "base_uri": "https://localhost:8080/"
        },
        "id": "xFEsYRUlmV4t",
        "outputId": "6bee1250-bd11-4285-d62f-58bd2a00b1e5"
      },
      "outputs": [
        {
          "output_type": "stream",
          "name": "stdout",
          "text": [
            "+-----------------+-----------------+----------------+----------------+-----------------+-----------------+----------------+----------------+\n",
            "|min(sepal_length)|max(sepal_length)|min(sepal_width)|max(sepal_width)|min(petal_length)|max(petal_length)|min(petal_width)|max(petal_width)|\n",
            "+-----------------+-----------------+----------------+----------------+-----------------+-----------------+----------------+----------------+\n",
            "|              4.3|              7.9|             2.0|             4.4|              1.0|              6.9|             0.1|             2.5|\n",
            "+-----------------+-----------------+----------------+----------------+-----------------+-----------------+----------------+----------------+\n",
            "\n"
          ]
        }
      ],
      "source": [
        "spark.sql(\"select min(sepal_length),max(sepal_length), min(sepal_width),max(sepal_width),min(petal_length),max(petal_length), min(petal_width),max(petal_width) from iris_table\").show()"
      ]
    },
    {
      "cell_type": "markdown",
      "metadata": {
        "application/vnd.databricks.v1+cell": {
          "cellMetadata": {},
          "inputWidgets": {},
          "nuid": "b781117f-12c1-4ca6-8c05-63077574d038",
          "showTitle": false,
          "title": ""
        },
        "id": "HkxFAI36Q4dB"
      },
      "source": [
        "### Plotting a correlation matrix"
      ]
    },
    {
      "cell_type": "markdown",
      "metadata": {
        "application/vnd.databricks.v1+cell": {
          "cellMetadata": {},
          "inputWidgets": {},
          "nuid": "f0cf90b4-054f-48d0-a8ce-bddf2141cc23",
          "showTitle": false,
          "title": ""
        },
        "id": "JVWXl1MURiMK"
      },
      "source": [
        "#### Calculate correlation using spark"
      ]
    },
    {
      "cell_type": "code",
      "execution_count": null,
      "metadata": {
        "application/vnd.databricks.v1+cell": {
          "cellMetadata": {},
          "inputWidgets": {},
          "nuid": "78d71e12-421d-48ec-93c3-42defe2ed5bd",
          "showTitle": false,
          "title": ""
        },
        "colab": {
          "base_uri": "https://localhost:8080/"
        },
        "id": "OjVYcsGOizMn",
        "outputId": "1c4ce794-b043-47f5-8e12-dae3dfd14b50"
      },
      "outputs": [
        {
          "output_type": "stream",
          "name": "stdout",
          "text": [
            "root\n",
            " |-- sepal_length: double (nullable = true)\n",
            " |-- sepal_width: double (nullable = true)\n",
            " |-- petal_length: double (nullable = true)\n",
            " |-- petal_width: double (nullable = true)\n",
            " |-- variety_index: double (nullable = false)\n",
            "\n"
          ]
        }
      ],
      "source": [
        "from pyspark.ml.stat import Correlation\n",
        "from pyspark.ml.feature import VectorAssembler, StringIndexer\n",
        "from pyspark.ml.classification import RandomForestClassifier\n",
        "from pyspark.ml.evaluation import MulticlassClassificationEvaluator\n",
        "from pyspark.ml import Pipeline\n",
        "\n",
        "string_columns = ['variety']\n",
        "# Converting string columns to indexes so that correlation method can run\n",
        "# A StringIndexer indexer that maps a string column of labels to an ML column of label indices\n",
        "indexers = [StringIndexer(inputCol=column, outputCol= column+'_index').setHandleInvalid(\"skip\").fit(renamed_iris_spark_df) for column in string_columns ]\n",
        "# Creating a spark ML pipeline\n",
        "# A Pipeline is specified as a sequence of stages, and each stage is either a Transformer or an Estimator.\n",
        "# These stages are run in order, and the input DataFrame is transformed as it passes through each stage.\n",
        "pipeline = Pipeline(stages=indexers)\n",
        "transformed_df = pipeline.fit(renamed_iris_spark_df).transform(renamed_iris_spark_df)\n",
        "df_r = transformed_df\n",
        "t_df = df_r.drop(*string_columns)\n",
        "t_df.printSchema()\n",
        "vector_col = \"corr_features\"\n",
        "#Creating a vector of features\n",
        "assembler = VectorAssembler(inputCols= t_df.columns, outputCol=vector_col)  #A feature transformer that merges multiple columns into a vector column\n",
        "df_vector = assembler.transform(t_df).select(vector_col)\n",
        "# Creating correlation matrix from vector\n",
        "matrix = Correlation.corr(df_vector, vector_col)"
      ]
    },
    {
      "cell_type": "markdown",
      "metadata": {
        "application/vnd.databricks.v1+cell": {
          "cellMetadata": {},
          "inputWidgets": {},
          "nuid": "badf6ade-67ac-4d4a-8471-cc632cf774a9",
          "showTitle": false,
          "title": ""
        },
        "id": "OWoHZ58eReG4"
      },
      "source": [
        "#### Plotting the matrix"
      ]
    },
    {
      "cell_type": "code",
      "execution_count": null,
      "metadata": {
        "application/vnd.databricks.v1+cell": {
          "cellMetadata": {},
          "inputWidgets": {},
          "nuid": "2af0698d-575c-422d-8110-331c5d4b3abf",
          "showTitle": false,
          "title": ""
        },
        "colab": {
          "base_uri": "https://localhost:8080/",
          "height": 468
        },
        "id": "N5lpL_DARc5O",
        "outputId": "59182d48-fecd-49f9-e4c6-c72992fe09a0"
      },
      "outputs": [
        {
          "output_type": "execute_result",
          "data": {
            "text/plain": [
              "<Axes: >"
            ]
          },
          "metadata": {},
          "execution_count": 25
        },
        {
          "output_type": "display_data",
          "data": {
            "text/plain": [
              "<Figure size 1600x500 with 2 Axes>"
            ],
            "image/png": "[encoded data removed]"
          },
          "metadata": {}
        }
      ],
      "source": [
        "import pandas as pd\n",
        "corr_matrix = matrix.collect()[0][0].toArray().tolist()\n",
        "corr_matrix_df = pd.DataFrame(data=corr_matrix, columns = t_df.columns, index=t_df.columns)\n",
        "import seaborn as sns\n",
        "import matplotlib.pyplot as plt\n",
        "plt.figure(figsize=(16,5))\n",
        "sns.heatmap(corr_matrix_df,\n",
        "            xticklabels=corr_matrix_df.columns.values,\n",
        "            yticklabels=corr_matrix_df.columns.values,  cmap=\"Greens\", annot=True)"
      ]
    },
    {
      "cell_type": "code",
      "execution_count": null,
      "metadata": {
        "application/vnd.databricks.v1+cell": {
          "cellMetadata": {},
          "inputWidgets": {},
          "nuid": "2b990222-9630-488d-8649-f72bee337dc9",
          "showTitle": false,
          "title": ""
        },
        "colab": {
          "base_uri": "https://localhost:8080/"
        },
        "id": "4XgoPjvdnfQF",
        "outputId": "1f7f80b6-8e44-44c5-838b-907d9a47109c"
      },
      "outputs": [
        {
          "output_type": "stream",
          "name": "stdout",
          "text": [
            "+------------+-----------+------------+-----------+----------+-------------+\n",
            "|sepal_length|sepal_width|petal_length|petal_width|   variety|variety_index|\n",
            "+------------+-----------+------------+-----------+----------+-------------+\n",
            "|         4.9|        3.6|         1.4|        0.1|    Setosa|          0.0|\n",
            "|         4.4|        3.0|         1.3|        0.2|    Setosa|          0.0|\n",
            "|         4.9|        3.0|         1.4|        0.2|    Setosa|          0.0|\n",
            "|         5.0|        3.0|         1.6|        0.2|    Setosa|          0.0|\n",
            "|         6.6|        2.9|         4.6|        1.3|Versicolor|          2.0|\n",
            "|         5.4|        3.9|         1.7|        0.4|    Setosa|          0.0|\n",
            "|         5.7|        2.8|         4.1|        1.3|Versicolor|          2.0|\n",
            "|         5.5|        2.3|         4.0|        1.3|Versicolor|          2.0|\n",
            "|         5.1|        2.5|         3.0|        1.1|Versicolor|          2.0|\n",
            "|         5.6|        3.0|         4.5|        1.5|Versicolor|          2.0|\n",
            "|         6.7|        3.1|         5.6|        2.4| Virginica|          1.0|\n",
            "|         6.3|        2.7|         4.9|        1.8| Virginica|          1.0|\n",
            "|         6.3|        2.9|         5.6|        1.8| Virginica|          1.0|\n",
            "|         6.3|        3.3|         6.0|        2.5| Virginica|          1.0|\n",
            "|         6.3|        2.5|         5.0|        1.9| Virginica|          1.0|\n",
            "|         6.7|        3.3|         5.7|        2.5| Virginica|          1.0|\n",
            "|         5.4|        3.4|         1.5|        0.4|    Setosa|          0.0|\n",
            "|         7.2|        3.2|         6.0|        1.8| Virginica|          1.0|\n",
            "|         7.4|        2.8|         6.1|        1.9| Virginica|          1.0|\n",
            "|         4.8|        3.0|         1.4|        0.1|    Setosa|          0.0|\n",
            "+------------+-----------+------------+-----------+----------+-------------+\n",
            "only showing top 20 rows\n",
            "\n"
          ]
        }
      ],
      "source": [
        "transformed_df.show()"
      ]
    },
    {
      "cell_type": "markdown",
      "metadata": {
        "application/vnd.databricks.v1+cell": {
          "cellMetadata": {},
          "inputWidgets": {},
          "nuid": "a0c8b714-7d69-4eb1-ae42-40a8d04ccd62",
          "showTitle": false,
          "title": ""
        },
        "id": "rHrleXAZRscw"
      },
      "source": [
        "### Preparing feature vector for machine learning models"
      ]
    },
    {
      "cell_type": "code",
      "execution_count": null,
      "metadata": {
        "application/vnd.databricks.v1+cell": {
          "cellMetadata": {},
          "inputWidgets": {},
          "nuid": "629bba30-7de8-47dd-a941-8f84038bdbc1",
          "showTitle": false,
          "title": ""
        },
        "colab": {
          "base_uri": "https://localhost:8080/"
        },
        "id": "MvLepmawm5Hc",
        "outputId": "376ae268-49da-40ca-c5b5-bc620e225bad"
      },
      "outputs": [
        {
          "output_type": "stream",
          "name": "stdout",
          "text": [
            "+------------+-----------+------------+-----------+----------+-------------+-----------------+\n",
            "|sepal_length|sepal_width|petal_length|petal_width|   variety|variety_index|         Features|\n",
            "+------------+-----------+------------+-----------+----------+-------------+-----------------+\n",
            "|         4.9|        3.6|         1.4|        0.1|    Setosa|          0.0|[4.9,3.6,1.4,0.1]|\n",
            "|         4.4|        3.0|         1.3|        0.2|    Setosa|          0.0|[4.4,3.0,1.3,0.2]|\n",
            "|         4.9|        3.0|         1.4|        0.2|    Setosa|          0.0|[4.9,3.0,1.4,0.2]|\n",
            "|         5.0|        3.0|         1.6|        0.2|    Setosa|          0.0|[5.0,3.0,1.6,0.2]|\n",
            "|         6.6|        2.9|         4.6|        1.3|Versicolor|          2.0|[6.6,2.9,4.6,1.3]|\n",
            "|         5.4|        3.9|         1.7|        0.4|    Setosa|          0.0|[5.4,3.9,1.7,0.4]|\n",
            "|         5.7|        2.8|         4.1|        1.3|Versicolor|          2.0|[5.7,2.8,4.1,1.3]|\n",
            "|         5.5|        2.3|         4.0|        1.3|Versicolor|          2.0|[5.5,2.3,4.0,1.3]|\n",
            "|         5.1|        2.5|         3.0|        1.1|Versicolor|          2.0|[5.1,2.5,3.0,1.1]|\n",
            "|         5.6|        3.0|         4.5|        1.5|Versicolor|          2.0|[5.6,3.0,4.5,1.5]|\n",
            "|         6.7|        3.1|         5.6|        2.4| Virginica|          1.0|[6.7,3.1,5.6,2.4]|\n",
            "|         6.3|        2.7|         4.9|        1.8| Virginica|          1.0|[6.3,2.7,4.9,1.8]|\n",
            "|         6.3|        2.9|         5.6|        1.8| Virginica|          1.0|[6.3,2.9,5.6,1.8]|\n",
            "|         6.3|        3.3|         6.0|        2.5| Virginica|          1.0|[6.3,3.3,6.0,2.5]|\n",
            "|         6.3|        2.5|         5.0|        1.9| Virginica|          1.0|[6.3,2.5,5.0,1.9]|\n",
            "|         6.7|        3.3|         5.7|        2.5| Virginica|          1.0|[6.7,3.3,5.7,2.5]|\n",
            "|         5.4|        3.4|         1.5|        0.4|    Setosa|          0.0|[5.4,3.4,1.5,0.4]|\n",
            "|         7.2|        3.2|         6.0|        1.8| Virginica|          1.0|[7.2,3.2,6.0,1.8]|\n",
            "|         7.4|        2.8|         6.1|        1.9| Virginica|          1.0|[7.4,2.8,6.1,1.9]|\n",
            "|         4.8|        3.0|         1.4|        0.1|    Setosa|          0.0|[4.8,3.0,1.4,0.1]|\n",
            "+------------+-----------+------------+-----------+----------+-------------+-----------------+\n",
            "only showing top 20 rows\n",
            "\n"
          ]
        }
      ],
      "source": [
        "featureassembler= VectorAssembler(inputCols=['sepal_length','sepal_width','petal_length','petal_width'], outputCol='Features')\n",
        "features_df = featureassembler.transform(transformed_df)\n",
        "features_df.show()"
      ]
    },
    {
      "cell_type": "markdown",
      "metadata": {
        "application/vnd.databricks.v1+cell": {
          "cellMetadata": {},
          "inputWidgets": {},
          "nuid": "e88b6d42-bb79-42c3-8029-900714ce84af",
          "showTitle": false,
          "title": ""
        },
        "id": "3BnJdvFRR7Qw"
      },
      "source": [
        "#### Normalization of features using spark"
      ]
    },
    {
      "cell_type": "code",
      "execution_count": null,
      "metadata": {
        "application/vnd.databricks.v1+cell": {
          "cellMetadata": {},
          "inputWidgets": {},
          "nuid": "f1619d12-1497-4b2c-ad5b-7ebd40749887",
          "showTitle": false,
          "title": ""
        },
        "colab": {
          "base_uri": "https://localhost:8080/"
        },
        "id": "W6uppKX6m7N4",
        "outputId": "2c6cd0dd-57b3-4904-a469-f5c6a826abdd"
      },
      "outputs": [
        {
          "output_type": "stream",
          "name": "stdout",
          "text": [
            "+----------+-------------+--------------------+\n",
            "|   variety|variety_index|     scaled_features|\n",
            "+----------+-------------+--------------------+\n",
            "|    Setosa|          0.0|[-1.1335243042213...|\n",
            "|    Setosa|          0.0|[-1.7393174223311...|\n",
            "|    Setosa|          0.0|[-1.1335243042213...|\n",
            "|    Setosa|          0.0|[-1.0123656805994...|\n",
            "|Versicolor|          2.0|[0.92617229735162...|\n",
            "|    Setosa|          0.0|[-0.5277311861116...|\n",
            "|Versicolor|          2.0|[-0.1642553152458...|\n",
            "|Versicolor|          2.0|[-0.4065725624897...|\n",
            "|Versicolor|          2.0|[-0.8912070569775...|\n",
            "|Versicolor|          2.0|[-0.2854139388677...|\n",
            "| Virginica|          1.0|[1.04733092097357...|\n",
            "| Virginica|          1.0|[0.56269642648580...|\n",
            "| Virginica|          1.0|[0.56269642648580...|\n",
            "| Virginica|          1.0|[0.56269642648580...|\n",
            "| Virginica|          1.0|[0.56269642648580...|\n",
            "| Virginica|          1.0|[1.04733092097357...|\n",
            "|    Setosa|          0.0|[-0.5277311861116...|\n",
            "| Virginica|          1.0|[1.65312403908328...|\n",
            "| Virginica|          1.0|[1.89544128632717...|\n",
            "|    Setosa|          0.0|[-1.2546829278433...|\n",
            "+----------+-------------+--------------------+\n",
            "only showing top 20 rows\n",
            "\n"
          ]
        }
      ],
      "source": [
        "from pyspark.ml.feature import StandardScaler\n",
        "\n",
        "scaler = StandardScaler(inputCol=\"Features\", outputCol=\"scaled_features\", withStd=True, withMean=True)\n",
        "\n",
        "scaler_model = scaler.fit(features_df)\n",
        "\n",
        "# Normalize the features\n",
        "scaled_df = scaler_model.transform(features_df)\n",
        "scaled_df = scaled_df.drop(*['sepal_length','sepal_width','petal_length','petal_width','Features'])\n",
        "scaled_df.show()"
      ]
    },
    {
      "cell_type": "markdown",
      "metadata": {
        "application/vnd.databricks.v1+cell": {
          "cellMetadata": {},
          "inputWidgets": {},
          "nuid": "0ad79327-4a47-4be9-976a-14a3cd81da0a",
          "showTitle": false,
          "title": ""
        },
        "id": "E3wSd1gsOb0r"
      },
      "source": [
        "# Machine Learning with Spark"
      ]
    },
    {
      "cell_type": "markdown",
      "metadata": {
        "application/vnd.databricks.v1+cell": {
          "cellMetadata": {},
          "inputWidgets": {},
          "nuid": "54d5b939-0f7d-43d3-9fe1-99f2725ab524",
          "showTitle": false,
          "title": ""
        },
        "id": "aWDM-FpESG0e"
      },
      "source": [
        "#### Splitting the dataset into train and test"
      ]
    },
    {
      "cell_type": "code",
      "execution_count": null,
      "metadata": {
        "application/vnd.databricks.v1+cell": {
          "cellMetadata": {},
          "inputWidgets": {},
          "nuid": "1a78c871-b634-4019-92fe-d04da09312e7",
          "showTitle": false,
          "title": ""
        },
        "id": "L6aAIieanRYp"
      },
      "outputs": [],
      "source": [
        "train_data,test_data=scaled_df.randomSplit([0.8,0.2],seed=42)"
      ]
    },
    {
      "cell_type": "markdown",
      "metadata": {
        "application/vnd.databricks.v1+cell": {
          "cellMetadata": {},
          "inputWidgets": {},
          "nuid": "a2537006-1590-47f1-864b-9e85d888de7a",
          "showTitle": false,
          "title": ""
        },
        "id": "wGA9oU5RSMsP"
      },
      "source": [
        "#### Running Random forest on training data"
      ]
    },
    {
      "cell_type": "code",
      "execution_count": null,
      "metadata": {
        "application/vnd.databricks.v1+cell": {
          "cellMetadata": {},
          "inputWidgets": {},
          "nuid": "b711434f-c53e-4ed0-ac63-4e60789bba7f",
          "showTitle": false,
          "title": ""
        },
        "id": "KcISZqxonUCU"
      },
      "outputs": [],
      "source": [
        "rf = RandomForestClassifier(featuresCol='scaled_features', labelCol='variety_index',maxBins=2,seed=42)\n",
        "rf=rf.fit(train_data)\n",
        "y_pred = rf.transform(test_data)"
      ]
    },
    {
      "cell_type": "markdown",
      "metadata": {
        "application/vnd.databricks.v1+cell": {
          "cellMetadata": {},
          "inputWidgets": {},
          "nuid": "45bba515-ce7b-41c3-b54d-0b40bb1d5871",
          "showTitle": false,
          "title": ""
        },
        "id": "G5gxS9Z9SQNQ"
      },
      "source": [
        "### Evaluating the model performance"
      ]
    },
    {
      "cell_type": "code",
      "execution_count": null,
      "metadata": {
        "application/vnd.databricks.v1+cell": {
          "cellMetadata": {},
          "inputWidgets": {},
          "nuid": "0d661d91-2f52-4268-851a-c36e9e9498c3",
          "showTitle": false,
          "title": ""
        },
        "colab": {
          "base_uri": "https://localhost:8080/"
        },
        "id": "DGPlEgt6nqIi",
        "outputId": "9a75da53-1f59-4d3e-b9e3-d0cbf78264ca"
      },
      "outputs": [
        {
          "output_type": "execute_result",
          "data": {
            "text/plain": [
              "0.8444765111431778"
            ]
          },
          "metadata": {},
          "execution_count": 42
        }
      ],
      "source": [
        "evaluator = MulticlassClassificationEvaluator(\n",
        "    labelCol='variety_index', predictionCol='prediction')\n",
        "accuracy = evaluator.evaluate(y_pred)\n",
        "accuracy"
      ]
    },
    {
      "cell_type": "markdown",
      "metadata": {
        "application/vnd.databricks.v1+cell": {
          "cellMetadata": {},
          "inputWidgets": {},
          "nuid": "3a2212c6-fea5-491b-a5b8-c9c6aa11a393",
          "showTitle": false,
          "title": ""
        },
        "id": "PrWKrTpjSVds"
      },
      "source": [
        "#### Cross validation to find the best model using spark"
      ]
    },
    {
      "cell_type": "code",
      "execution_count": null,
      "metadata": {
        "application/vnd.databricks.v1+cell": {
          "cellMetadata": {},
          "inputWidgets": {},
          "nuid": "8cbb9379-3158-405a-8b66-989eef90e562",
          "showTitle": false,
          "title": ""
        },
        "id": "LfpKWrTDu0wj",
        "colab": {
          "base_uri": "https://localhost:8080/"
        },
        "outputId": "255bc790-f015-45b6-d212-4de4da7efa98"
      },
      "outputs": [
        {
          "output_type": "stream",
          "name": "stdout",
          "text": [
            "accuracy = 0.939394\n",
            "f1 score = 0.939394\n"
          ]
        }
      ],
      "source": [
        "from pyspark.ml.tuning import CrossValidator, ParamGridBuilder\n",
        "rf = RandomForestClassifier(featuresCol='scaled_features', labelCol='variety_index',seed=42)\n",
        "\n",
        "pipeline = Pipeline(stages=[rf])\n",
        "\n",
        "paramGrid = ParamGridBuilder()\\\n",
        "            .addGrid(rf.numTrees, [3,10])\\\n",
        "            .addGrid(rf.maxBins, [32,100])\\\n",
        "            .addGrid(rf.maxDepth, [5,10])\\\n",
        "            .addGrid(rf.impurity,['gini','entropy'])\\\n",
        "            .build()\n",
        "\n",
        "evaluator = MulticlassClassificationEvaluator(\n",
        "    labelCol=\"variety_index\", predictionCol=\"prediction\", metricName=\"accuracy\")\n",
        "\n",
        "crossval = CrossValidator(\\\n",
        "                          estimator=pipeline,\\\n",
        "                         estimatorParamMaps=paramGrid,\\\n",
        "                         evaluator=evaluator,\\\n",
        "                         numFolds=4)\n",
        "\n",
        "\n",
        "model = crossval.fit(train_data)\n",
        "\n",
        "\n",
        "predictions = model.transform(test_data)\n",
        "\n",
        "evaluator2 = MulticlassClassificationEvaluator(\n",
        "    labelCol=\"variety_index\", predictionCol=\"prediction\", metricName=\"f1\")\n",
        "accuracy = evaluator.evaluate(predictions)\n",
        "f1 = evaluator2.evaluate(predictions)\n",
        "print(\"accuracy = %g\" % (accuracy))\n",
        "print(\"f1 score = %g\" % (f1))\n",
        "\n",
        "bestPipeline = model.bestModel\n"
      ]
    },
    {
      "cell_type": "code",
      "execution_count": null,
      "metadata": {
        "application/vnd.databricks.v1+cell": {
          "cellMetadata": {},
          "inputWidgets": {},
          "nuid": "390439b5-3666-4900-beea-ea1bdaf79a12",
          "showTitle": false,
          "title": ""
        },
        "id": "nua7ad--wSwP",
        "colab": {
          "base_uri": "https://localhost:8080/"
        },
        "outputId": "4ba179ae-55b0-4c0e-c1a6-ea37b36cd868"
      },
      "outputs": [
        {
          "output_type": "stream",
          "name": "stdout",
          "text": [
            "RandomForestClassifier_73845552af0d__bootstrap\tTrue\n",
            "RandomForestClassifier_73845552af0d__cacheNodeIds\tFalse\n",
            "RandomForestClassifier_73845552af0d__checkpointInterval\t10\n",
            "RandomForestClassifier_73845552af0d__featureSubsetStrategy\tauto\n",
            "RandomForestClassifier_73845552af0d__featuresCol\tscaled_features\n",
            "RandomForestClassifier_73845552af0d__impurity\tentropy\n",
            "RandomForestClassifier_73845552af0d__labelCol\tvariety_index\n",
            "RandomForestClassifier_73845552af0d__leafCol\t\n",
            "RandomForestClassifier_73845552af0d__maxBins\t32\n",
            "RandomForestClassifier_73845552af0d__maxDepth\t10\n",
            "RandomForestClassifier_73845552af0d__maxMemoryInMB\t256\n",
            "RandomForestClassifier_73845552af0d__minInfoGain\t0.0\n",
            "RandomForestClassifier_73845552af0d__minInstancesPerNode\t1\n",
            "RandomForestClassifier_73845552af0d__minWeightFractionPerNode\t0.0\n",
            "RandomForestClassifier_73845552af0d__numTrees\t10\n",
            "RandomForestClassifier_73845552af0d__predictionCol\tprediction\n",
            "RandomForestClassifier_73845552af0d__probabilityCol\tprobability\n",
            "RandomForestClassifier_73845552af0d__rawPredictionCol\trawPrediction\n",
            "RandomForestClassifier_73845552af0d__seed\t42\n",
            "RandomForestClassifier_73845552af0d__subsamplingRate\t1.0\n"
          ]
        }
      ],
      "source": [
        "bestLRModel = bestPipeline.stages[0]\n",
        "bestParams = bestLRModel.extractParamMap()\n",
        "print(\"\\n\".join(\"{}\\t{}\".format(k, v) for k, v in bestParams.items()))"
      ]
    },
    {
      "cell_type": "code",
      "execution_count": null,
      "metadata": {
        "application/vnd.databricks.v1+cell": {
          "cellMetadata": {},
          "inputWidgets": {},
          "nuid": "107bd4b2-5b94-455c-acf2-8282d18bd7b7",
          "showTitle": false,
          "title": ""
        },
        "id": "9rGe8SRNx6YT",
        "colab": {
          "base_uri": "https://localhost:8080/"
        },
        "outputId": "dcc22cff-2b37-49e9-bf37-c559ad1fc71a"
      },
      "outputs": [
        {
          "output_type": "stream",
          "name": "stdout",
          "text": [
            "RandomForestClassificationModel: uid=RandomForestClassifier_73845552af0d, numTrees=10, numClasses=3, numFeatures=4\n",
            "  Tree 0 (weight 1.0):\n",
            "    If (feature 2 <= -0.7073435185764505)\n",
            "     Predict: 0.0\n",
            "    Else (feature 2 > -0.7073435185764505)\n",
            "     If (feature 2 <= 0.5641680878726377)\n",
            "      Predict: 2.0\n",
            "     Else (feature 2 > 0.5641680878726377)\n",
            "      If (feature 3 <= 0.7219359351966296)\n",
            "       If (feature 2 <= 0.7902145956858089)\n",
            "        Predict: 2.0\n",
            "       Else (feature 2 > 0.7902145956858089)\n",
            "        Predict: 1.0\n",
            "      Else (feature 3 > 0.7219359351966296)\n",
            "       Predict: 1.0\n",
            "  Tree 1 (weight 1.0):\n",
            "    If (feature 3 <= -0.8474518485499649)\n",
            "     Predict: 0.0\n",
            "    Else (feature 3 > -0.8474518485499649)\n",
            "     If (feature 3 <= 0.5911536198844134)\n",
            "      If (feature 2 <= 0.7902145956858089)\n",
            "       Predict: 2.0\n",
            "      Else (feature 2 > 0.7902145956858089)\n",
            "       Predict: 1.0\n",
            "     Else (feature 3 > 0.5911536198844134)\n",
            "      Predict: 1.0\n",
            "  Tree 2 (weight 1.0):\n",
            "    If (feature 3 <= -0.5204960602694244)\n",
            "     Predict: 0.0\n",
            "    Else (feature 3 > -0.5204960602694244)\n",
            "     If (feature 3 <= 0.7219359351966296)\n",
            "      If (feature 2 <= 0.6771913417792235)\n",
            "       Predict: 2.0\n",
            "      Else (feature 2 > 0.6771913417792235)\n",
            "       If (feature 2 <= 0.7902145956858089)\n",
            "        If (feature 1 <= -1.8445022759817795)\n",
            "         Predict: 1.0\n",
            "        Else (feature 1 > -1.8445022759817795)\n",
            "         If (feature 0 <= 0.2597998674309443)\n",
            "          Predict: 2.0\n",
            "         Else (feature 0 > 0.2597998674309443)\n",
            "          If (feature 0 <= 0.6232757382967726)\n",
            "           Predict: 1.0\n",
            "          Else (feature 0 > 0.6232757382967726)\n",
            "           Predict: 2.0\n",
            "       Else (feature 2 > 0.7902145956858089)\n",
            "        Predict: 1.0\n",
            "     Else (feature 3 > 0.7219359351966296)\n",
            "      Predict: 1.0\n",
            "  Tree 3 (weight 1.0):\n",
            "    If (feature 0 <= -0.1036760034348835)\n",
            "     If (feature 1 <= -0.4720636286844763)\n",
            "      If (feature 0 <= -1.436420863276253)\n",
            "       Predict: 0.0\n",
            "      Else (feature 0 > -1.436420863276253)\n",
            "       If (feature 3 <= 0.3295889892599809)\n",
            "        Predict: 2.0\n",
            "       Else (feature 3 > 0.3295889892599809)\n",
            "        Predict: 1.0\n",
            "     Else (feature 1 > -0.4720636286844763)\n",
            "      Predict: 0.0\n",
            "    Else (feature 0 > -0.1036760034348835)\n",
            "     If (feature 3 <= 0.7219359351966296)\n",
            "      If (feature 1 <= -0.4720636286844763)\n",
            "       If (feature 2 <= 0.5641680878726377)\n",
            "        Predict: 2.0\n",
            "       Else (feature 2 > 0.5641680878726377)\n",
            "        Predict: 1.0\n",
            "      Else (feature 1 > -0.4720636286844763)\n",
            "       Predict: 2.0\n",
            "     Else (feature 3 > 0.7219359351966296)\n",
            "      Predict: 1.0\n",
            "  Tree 4 (weight 1.0):\n",
            "    If (feature 3 <= -0.8474518485499649)\n",
            "     Predict: 0.0\n",
            "    Else (feature 3 > -0.8474518485499649)\n",
            "     If (feature 2 <= 0.7337029687325161)\n",
            "      If (feature 2 <= 0.5641680878726377)\n",
            "       Predict: 2.0\n",
            "      Else (feature 2 > 0.5641680878726377)\n",
            "       If (feature 0 <= 0.38095849105288704)\n",
            "        Predict: 1.0\n",
            "       Else (feature 0 > 0.38095849105288704)\n",
            "        Predict: 2.0\n",
            "     Else (feature 2 > 0.7337029687325161)\n",
            "      If (feature 3 <= 0.5911536198844134)\n",
            "       If (feature 0 <= 0.2597998674309443)\n",
            "        Predict: 2.0\n",
            "       Else (feature 0 > 0.2597998674309443)\n",
            "        Predict: 1.0\n",
            "      Else (feature 3 > 0.5911536198844134)\n",
            "       Predict: 1.0\n",
            "  Tree 5 (weight 1.0):\n",
            "    If (feature 3 <= -0.5204960602694244)\n",
            "     Predict: 0.0\n",
            "    Else (feature 3 > -0.5204960602694244)\n",
            "     If (feature 3 <= 0.7219359351966296)\n",
            "      Predict: 2.0\n",
            "     Else (feature 3 > 0.7219359351966296)\n",
            "      Predict: 1.0\n",
            "  Tree 6 (weight 1.0):\n",
            "    If (feature 3 <= -0.978234163862181)\n",
            "     Predict: 0.0\n",
            "    Else (feature 3 > -0.978234163862181)\n",
            "     If (feature 3 <= 0.7219359351966296)\n",
            "      If (feature 0 <= 0.2597998674309443)\n",
            "       Predict: 2.0\n",
            "      Else (feature 0 > 0.2597998674309443)\n",
            "       If (feature 3 <= 0.19880667394776472)\n",
            "        Predict: 2.0\n",
            "       Else (feature 3 > 0.19880667394776472)\n",
            "        If (feature 2 <= 0.7337029687325161)\n",
            "         Predict: 2.0\n",
            "        Else (feature 2 > 0.7337029687325161)\n",
            "         Predict: 1.0\n",
            "     Else (feature 3 > 0.7219359351966296)\n",
            "      Predict: 1.0\n",
            "  Tree 7 (weight 1.0):\n",
            "    If (feature 2 <= -0.7073435185764505)\n",
            "     Predict: 0.0\n",
            "    Else (feature 2 > -0.7073435185764505)\n",
            "     If (feature 2 <= 0.5641680878726377)\n",
            "      Predict: 2.0\n",
            "     Else (feature 2 > 0.5641680878726377)\n",
            "      If (feature 0 <= 0.2597998674309443)\n",
            "       If (feature 0 <= 0.017482620187059265)\n",
            "        Predict: 1.0\n",
            "       Else (feature 0 > 0.017482620187059265)\n",
            "        Predict: 2.0\n",
            "      Else (feature 0 > 0.2597998674309443)\n",
            "       Predict: 1.0\n",
            "  Tree 8 (weight 1.0):\n",
            "    If (feature 3 <= -0.8474518485499649)\n",
            "     Predict: 0.0\n",
            "    Else (feature 3 > -0.8474518485499649)\n",
            "     If (feature 3 <= 0.7219359351966296)\n",
            "      If (feature 0 <= 0.017482620187059265)\n",
            "       Predict: 2.0\n",
            "      Else (feature 0 > 0.017482620187059265)\n",
            "       If (feature 1 <= -0.4720636286844763)\n",
            "        If (feature 2 <= 0.5641680878726377)\n",
            "         Predict: 2.0\n",
            "        Else (feature 2 > 0.5641680878726377)\n",
            "         Predict: 1.0\n",
            "       Else (feature 1 > -0.4720636286844763)\n",
            "        Predict: 2.0\n",
            "     Else (feature 3 > 0.7219359351966296)\n",
            "      Predict: 1.0\n",
            "  Tree 9 (weight 1.0):\n",
            "    If (feature 3 <= -0.978234163862181)\n",
            "     Predict: 0.0\n",
            "    Else (feature 3 > -0.978234163862181)\n",
            "     If (feature 2 <= 0.5641680878726377)\n",
            "      Predict: 2.0\n",
            "     Else (feature 2 > 0.5641680878726377)\n",
            "      If (feature 2 <= 0.7902145956858089)\n",
            "       If (feature 3 <= 0.7219359351966296)\n",
            "        Predict: 2.0\n",
            "       Else (feature 3 > 0.7219359351966296)\n",
            "        Predict: 1.0\n",
            "      Else (feature 2 > 0.7902145956858089)\n",
            "       Predict: 1.0\n",
            "\n"
          ]
        }
      ],
      "source": [
        "print(bestLRModel.toDebugString)"
      ]
    }
  ],
  "metadata": {
    "application/vnd.databricks.v1+notebook": {
      "dashboards": [],
      "language": "python",
      "notebookMetadata": {
        "pythonIndentUnit": 4
      },
      "notebookName": "SparkWorkshop (2)",
      "widgets": {}
    },
    "colab": {
      "provenance": [],
      "include_colab_link": true
    },
    "kernelspec": {
      "display_name": "Python 3",
      "name": "python3"
    },
    "language_info": {
      "name": "python"
    }
  },
  "nbformat": 4,
  "nbformat_minor": 0
}