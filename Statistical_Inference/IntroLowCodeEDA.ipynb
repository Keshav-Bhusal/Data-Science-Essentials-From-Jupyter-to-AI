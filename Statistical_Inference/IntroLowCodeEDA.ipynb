{
  "nbformat": 4,
  "nbformat_minor": 0,
  "metadata": {
    "colab": {
      "provenance": [],
      "include_colab_link": true
    },
    "kernelspec": {
      "name": "python3",
      "display_name": "Python 3"
    },
    "language_info": {
      "name": "python"
    }
  },
  "cells": [
    {
      "cell_type": "markdown",
      "metadata": {
        "id": "view-in-github",
        "colab_type": "text"
      },
      "source": [
        "<a href=\"https://colab.research.google.com/github/ua-datalab/Workshops/blob/main/Statistical_Inference/IntroLowCodeEDA.ipynb\" target=\"_parent\"><img src=\"https://colab.research.google.com/assets/colab-badge.svg\" alt=\"Open In Colab\"/></a>"
      ]
    },
    {
      "cell_type": "markdown",
      "source": [
        "# Low code Exploratory Data Tools\n",
        "Created: 03/15/2023<br>\n",
        "Updated: 03/17/2023\n",
        "\n",
        "(**Must be executed again in Google Colab, to show all outputs**).\n",
        "\n",
        "This Google Colab Jupyter Notebook shows EDA examples using a set of diverse low-code exploratory data tools:\n",
        "\n",
        "* [ydata-profiling](https://github.com/ydataai/ydata-profiling), also known as `pandas-profiling`, the primary goal is to provide a one-line Exploratory Data Analysis (EDA) experience in a consistent and fast solution.\n",
        "* [sweetviz](https://github.com/fbdesignpro/sweetviz). Sweetviz is an open-source Python library that generates beautiful, high-density visualizations to kickstart EDA (Exploratory Data Analysis) with just two lines of code. Output is a fully self-contained HTML application.\n",
        "* [lux APLI](https://github.com/lux-org/lux). Lux is a Python library that facilitate fast and easy data exploration by automating the visualization and data analysis process. By simply printing out a dataframe in a Jupyter notebook, Lux recommends a set of visualizations highlighting interesting trends and patterns in the dataset.\n",
        "* [DataPrep](https://github.com/sfu-db/dataprep). DataPrep.EDA is the fastest and the easiest EDA (Exploratory Data Analysis) tool in Python. It allows you to understand a Pandas/Dask DataFrame with a few lines of code in seconds.\n",
        "* [AutoViz](https://github.com/AutoViML/AutoViz). AutoViz performs automatic visualization of any dataset with one line of code. Give it any input file (CSV, txt or json format) of any size and AutoViz will visualize it.\n"
      ],
      "metadata": {
        "id": "K0ZHCXlRfJJS"
      }
    },
    {
      "cell_type": "markdown",
      "source": [
        "## ydata-profiling example."
      ],
      "metadata": {
        "id": "FjBm4dOB7qEh"
      }
    },
    {
      "cell_type": "code",
      "source": [
        "#!pip install visions==0.7.4 --quiet"
      ],
      "metadata": {
        "id": "iK5cjCm3oL86"
      },
      "execution_count": null,
      "outputs": []
    },
    {
      "cell_type": "code",
      "execution_count": null,
      "metadata": {
        "id": "YmqE6GHOe_9F"
      },
      "outputs": [],
      "source": [
        "# pandas-profiling requirements\n",
        "\n",
        "import sys\n",
        "!{sys.executable} -m pip install -U ydata-profiling[notebook] --quiet\n",
        "!jupyter nbextension enable --py widgetsnbextension\n"
      ]
    },
    {
      "cell_type": "code",
      "source": [
        "import numpy as np\n",
        "import pandas as pd\n",
        "from ydata_profiling import ProfileReport\n"
      ],
      "metadata": {
        "id": "zqEJ4LhOgFE4"
      },
      "execution_count": null,
      "outputs": []
    },
    {
      "cell_type": "code",
      "source": [
        "# Read Penguins dataset\n",
        "\n",
        "pdataset = \"https://raw.githubusercontent.com/clizarraga-UAD7/Datasets/main/penguins/penguins_size.csv\"\n",
        "df = pd.read_csv(pdataset)\n"
      ],
      "metadata": {
        "id": "t4IBfKe4qlkH"
      },
      "execution_count": null,
      "outputs": []
    },
    {
      "cell_type": "code",
      "source": [
        "# General dataframe info\n",
        "df.info()\n"
      ],
      "metadata": {
        "id": "dwRNIEyFp5GV"
      },
      "execution_count": null,
      "outputs": []
    },
    {
      "cell_type": "code",
      "source": [
        "# Drop rows with missing numbers\n",
        "df=df.dropna()\n",
        "df.info()\n"
      ],
      "metadata": {
        "id": "n1UQLyWWrpdG"
      },
      "execution_count": null,
      "outputs": []
    },
    {
      "cell_type": "code",
      "source": [
        "# Pandas df.describe() summary\n",
        "df.describe()\n"
      ],
      "metadata": {
        "id": "hfckbXr1wbdL"
      },
      "execution_count": null,
      "outputs": []
    },
    {
      "cell_type": "code",
      "source": [
        "# To generate the standard profiling report\n",
        "\n",
        "profile = ProfileReport(df, title=\"Profiling Report\")\n"
      ],
      "metadata": {
        "id": "awPJgGCygjKG"
      },
      "execution_count": null,
      "outputs": []
    },
    {
      "cell_type": "code",
      "source": [
        "# displaying the report as a set of widgets\n",
        "\n",
        "profile.to_widgets()\n"
      ],
      "metadata": {
        "id": "OE-4_ukshrIt"
      },
      "execution_count": null,
      "outputs": []
    },
    {
      "cell_type": "code",
      "source": [
        "# The HTML report can be directly embedded in a cell\n",
        "\n",
        "profile.to_notebook_iframe()\n"
      ],
      "metadata": {
        "id": "1TE4smXjhwlK"
      },
      "execution_count": null,
      "outputs": []
    },
    {
      "cell_type": "markdown",
      "source": [
        "## Sweetviz example."
      ],
      "metadata": {
        "id": "QUkGUS4Q8E6O"
      }
    },
    {
      "cell_type": "code",
      "source": [
        "# Sweetviz install\n",
        "!pip install sweetviz --quiet"
      ],
      "metadata": {
        "id": "VkZJIaojh-rY"
      },
      "execution_count": null,
      "outputs": []
    },
    {
      "cell_type": "code",
      "source": [
        "import sweetviz as sv\n",
        "\n",
        "my_dataframe = df.copy()\n",
        "\n",
        "my_report = sv.analyze(df)\n",
        "my_report.show_html() # Default arguments will generate to \"SWEETVIZ_REPORT.html\""
      ],
      "metadata": {
        "id": "9i7jBQMv8P3d"
      },
      "execution_count": null,
      "outputs": []
    },
    {
      "cell_type": "markdown",
      "source": [
        "**Note**: Google Colab does not open HTML. Please download the HTML to your local computer and open it wiith a browser."
      ],
      "metadata": {
        "id": "IFyKt4Gi98by"
      }
    },
    {
      "cell_type": "code",
      "source": [
        "# To open results in notebook.\n",
        "my_report.show_notebook()"
      ],
      "metadata": {
        "id": "aEM67VEg9hID"
      },
      "execution_count": null,
      "outputs": []
    },
    {
      "cell_type": "markdown",
      "source": [
        "## Lux API example."
      ],
      "metadata": {
        "id": "FNO9UkDopKV-"
      }
    },
    {
      "cell_type": "code",
      "source": [
        "# Lux installation\n",
        "\n",
        "!pip install lux-api --quiet\n",
        ""
      ],
      "metadata": {
        "id": "LPe3K-UlACX7"
      },
      "execution_count": null,
      "outputs": []
    },
    {
      "cell_type": "code",
      "source": [
        "# Activate Jupyter notebook extension\n",
        "\n",
        "!jupyter nbextension install --py luxwidget\n",
        "!jupyter nbextension enable --py luxwidget\n"
      ],
      "metadata": {
        "id": "sJgnBfazp1nc"
      },
      "execution_count": null,
      "outputs": []
    },
    {
      "cell_type": "code",
      "source": [
        "# Load Lux and add local commands for Googe Colab\n",
        "\n",
        "import lux\n",
        "import pandas as pd\n",
        "\n",
        "from google.colab import output\n",
        "output.enable_custom_widget_manager()\n"
      ],
      "metadata": {
        "id": "_BCUwoHLqU_o"
      },
      "execution_count": null,
      "outputs": []
    },
    {
      "cell_type": "code",
      "source": [
        "# Read dataset\n",
        "\n",
        "pdataset = \"https://raw.githubusercontent.com/clizarraga-UAD7/Datasets/main/penguins/penguins_size.csv\"\n",
        "df = pd.read_csv(pdataset)\n",
        "\n",
        "# Drop rows with missing numbers\n",
        "df=df.dropna()\n"
      ],
      "metadata": {
        "id": "Jb0Bu5o8soaz"
      },
      "execution_count": null,
      "outputs": []
    },
    {
      "cell_type": "code",
      "source": [
        "# Now print df and a Toggle widget will appear to switch between Pandas and Lux\n",
        "\n",
        "df"
      ],
      "metadata": {
        "id": "0ELuDdjqqb9B"
      },
      "execution_count": null,
      "outputs": []
    },
    {
      "cell_type": "markdown",
      "source": [
        "## DataPrep example"
      ],
      "metadata": {
        "id": "36WcWgjKwdYq"
      }
    },
    {
      "cell_type": "code",
      "source": [
        "!pip install -U git+https://github.com/sfu-db/dataprep.git@develop --quiet"
      ],
      "metadata": {
        "id": "GyHwrdW8tgXO"
      },
      "execution_count": null,
      "outputs": []
    },
    {
      "cell_type": "code",
      "source": [
        "from dataprep.eda import *\n",
        "from dataprep.eda import plot, plot_correlation, plot_missing, plot_diff, create_report"
      ],
      "metadata": {
        "id": "7hAc8erEwpUk"
      },
      "execution_count": null,
      "outputs": []
    },
    {
      "cell_type": "code",
      "source": [
        "# Read dataset\n",
        "\n",
        "pdataset = \"https://raw.githubusercontent.com/clizarraga-UAD7/Datasets/main/penguins/penguins_size.csv\"\n",
        "df = pd.read_csv(pdataset)\n",
        "\n",
        "# Drop rows with missing numbers\n",
        "#df=df.dropna()"
      ],
      "metadata": {
        "id": "vkYjlaA-xAmb"
      },
      "execution_count": null,
      "outputs": []
    },
    {
      "cell_type": "code",
      "source": [
        "plot(df)"
      ],
      "metadata": {
        "id": "jgB_GnUnxL-9"
      },
      "execution_count": null,
      "outputs": []
    },
    {
      "cell_type": "code",
      "source": [
        "# Plot missing values\n",
        "\n",
        "plot_missing(df)"
      ],
      "metadata": {
        "id": "bLYv6-yfxN0S"
      },
      "execution_count": null,
      "outputs": []
    },
    {
      "cell_type": "code",
      "source": [
        "# Missing value overview\n",
        "\n",
        "plot_missing(df, \"sex\")"
      ],
      "metadata": {
        "id": "ujBR1pblxi7r"
      },
      "execution_count": null,
      "outputs": []
    },
    {
      "cell_type": "code",
      "source": [
        "# Correlation overview\n",
        "\n",
        "plot_correlation(df)"
      ],
      "metadata": {
        "id": "c5Rdm7CJx1mK"
      },
      "execution_count": null,
      "outputs": []
    },
    {
      "cell_type": "code",
      "source": [
        "# Understand how other columns correlated to the given column\n",
        "\n",
        "plot_correlation(df, \"body_mass_g\")"
      ],
      "metadata": {
        "id": "foB5Ip_kyCXb"
      },
      "execution_count": null,
      "outputs": []
    },
    {
      "cell_type": "code",
      "source": [
        "# Numerical column overview\n",
        "\n",
        "plot(df, \"body_mass_g\")"
      ],
      "metadata": {
        "id": "guxFYNPXyTBr"
      },
      "execution_count": null,
      "outputs": []
    },
    {
      "cell_type": "code",
      "source": [
        "# Categorical value overview\n",
        "\n",
        "plot(df, \"sex\")"
      ],
      "metadata": {
        "id": "2E2ZNTLHy07a"
      },
      "execution_count": null,
      "outputs": []
    },
    {
      "cell_type": "code",
      "source": [
        "# Numerical vs. Numerical column relationship\n",
        "\n",
        "plot(df, \"flipper_length_mm\", \"body_mass_g\")"
      ],
      "metadata": {
        "id": "MyzxKYAkzC-5"
      },
      "execution_count": null,
      "outputs": []
    },
    {
      "cell_type": "code",
      "source": [
        "# Numerical vs. Categorical column relationship\n",
        "\n",
        "plot(df, \"body_mass_g\", \"sex\")"
      ],
      "metadata": {
        "id": "ktJVM8MpzfCH"
      },
      "execution_count": null,
      "outputs": []
    },
    {
      "cell_type": "code",
      "source": [
        "# Create a full report\n",
        "\n",
        "create_report(df)"
      ],
      "metadata": {
        "id": "nuLZCyJ8z1tH"
      },
      "execution_count": null,
      "outputs": []
    },
    {
      "cell_type": "markdown",
      "source": [
        "## AutoViz example"
      ],
      "metadata": {
        "id": "tUlWNjAQ-WhM"
      }
    },
    {
      "cell_type": "code",
      "source": [
        "# Install AutoViz\n",
        "\n",
        "!pip install autoviz --quiet"
      ],
      "metadata": {
        "id": "2ztFyKzx0U1Y"
      },
      "execution_count": null,
      "outputs": []
    },
    {
      "cell_type": "code",
      "source": [
        "# Load AutoViz libraries\n",
        "\n",
        "from autoviz.AutoViz_Class import AutoViz_Class\n",
        "AV = AutoViz_Class()\n",
        "\n",
        "# AutoViz does not display plots automatically. The next line is needed.\n",
        "%matplotlib inline"
      ],
      "metadata": {
        "id": "5OI5rQ0a-lmn"
      },
      "execution_count": null,
      "outputs": []
    },
    {
      "cell_type": "code",
      "source": [
        "# Generate visualizations\n",
        "pdataset = \"https://raw.githubusercontent.com/clizarraga-UAD7/Datasets/main/penguins/penguins_size.csv\"\n",
        "\n",
        "AV.AutoViz(pdataset)\n"
      ],
      "metadata": {
        "id": "kQXJZDKK_DI8"
      },
      "execution_count": null,
      "outputs": []
    },
    {
      "cell_type": "code",
      "source": [],
      "metadata": {
        "id": "J9nUCVTOBZBH"
      },
      "execution_count": null,
      "outputs": []
    }
  ]
}